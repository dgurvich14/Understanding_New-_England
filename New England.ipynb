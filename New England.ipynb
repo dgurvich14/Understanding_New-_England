{
 "cells": [
  {
   "cell_type": "code",
   "execution_count": 100,
   "id": "283355f9",
   "metadata": {},
   "outputs": [],
   "source": [
    "import numpy as np\n",
    "import pandas as pd\n",
    "%matplotlib inline\n",
    "import matplotlib.pyplot as plt\n",
    "import seaborn as sns"
   ]
  },
  {
   "cell_type": "code",
   "execution_count": 101,
   "id": "6dfc3179",
   "metadata": {},
   "outputs": [
    {
     "data": {
      "image/png": "[encoded data removed]",
      "text/plain": [
       "<Figure size 432x288 with 1 Axes>"
      ]
     },
     "metadata": {
      "needs_background": "light"
     },
     "output_type": "display_data"
    }
   ],
   "source": [
    "data = pd.read_csv(\"PopulationEstimates.csv\", index_col =\"Area name\")\n",
    "states = data.loc[[\"Connecticut\", \"Maine\", \"Massachusetts\", \"New Hampshire\", \"Rhode Island\", \"Vermont\"]]\n",
    "pops=states.iloc[:, 4]\n",
    "ct_pop=pops.loc[\"Connecticut\"]\n",
    "me_pop=pops.loc[\"Maine\"]\n",
    "ma_pop=pops.loc[\"Massachusetts\"]\n",
    "nh_pop=pops.loc[\"New Hampshire\"]\n",
    "ri_pop=pops.loc[\"Rhode Island\"]\n",
    "vt_pop=pops.loc[\"Vermont\"]\n",
    "df2=pd.Series([ct_pop,me_pop,ma_pop,nh_pop,ri_pop,vt_pop])\n",
    "states2=[\"Connecticut\", \"Maine\", \"Massachusetts\", \"New Hampshire\", \"Rhode Island\", \"Vermont\"]\n",
    "numbers=[df2.loc[0],df2.loc[1],df2.loc[2],df2.loc[3],df2.loc[4],df2.loc[5]]\n",
    "\n",
    "\n",
    "decade1 = [ct_pop[0],me_pop[0],ma_pop[0],nh_pop[0],ri_pop[0],vt_pop[0]]\n",
    "decade2 = [ct_pop[1],me_pop[1],ma_pop[1],nh_pop[1],ri_pop[1],vt_pop[1]]\n",
    "decade3 = [ct_pop[2],me_pop[2],ma_pop[2],nh_pop[2],ri_pop[2],vt_pop[2]]\n",
    "decade4 = [ct_pop[3],me_pop[3],ma_pop[3],nh_pop[3],ri_pop[3],vt_pop[3]]\n",
    "\n",
    "index=[\"Connecticut\",\"Maine\",\"Massachusetts\",\"New Hampshire\",\"Rhode Island\",\"Vermont\"]\n",
    "\n",
    "df=pd.DataFrame({\"1990\":decade1,\n",
    "                 \"2000\":decade2,\n",
    "                 \"2010\":decade3,\n",
    "                 \"2020\":decade4},index=index)\n",
    "'''\n",
    "\n",
    "ct = [ct_pop[0],ct_pop[1],ct_pop[2],ct_pop[3]]\n",
    "me = [me_pop[0],me_pop[1],me_pop[2],me_pop[3]]\n",
    "ma = [ma_pop[0],ma_pop[1],ma_pop[2],ma_pop[3]]\n",
    "nh = [nh_pop[0],nh_pop[1],nh_pop[2],nh_pop[3]]\n",
    "ri = [ri_pop[0],ri_pop[1],ri_pop[2],ri_pop[3]]\n",
    "vt = [vt_pop[0],vt_pop[1],vt_pop[2],vt_pop[3]]\n",
    "'''\n",
    "\n",
    "ax=df.plot.barh()\n",
    "ax.set_title(\"Census Population by State From 1990 to 2020\")\n",
    "ax.set_xlabel('Population (in Millions)')\n",
    "ax.set_ylabel('State')\n",
    "ax.invert_yaxis()"
   ]
  },
  {
   "cell_type": "code",
   "execution_count": 102,
   "id": "c369a66b",
   "metadata": {},
   "outputs": [
    {
     "data": {
      "image/png": "[encoded data removed]",
      "text/plain": [
       "<Figure size 432x288 with 1 Axes>"
      ]
     },
     "metadata": {
      "needs_background": "light"
     },
     "output_type": "display_data"
    }
   ],
   "source": [
    "sum1990 = ct_pop[0] + me_pop[0] + ma_pop[0] + nh_pop[0] + ri_pop[0] + vt_pop[0]\n",
    "avg1990 = sum1990/6\n",
    "percent_ct1 = ct_pop[0] / sum1990\n",
    "percent_me1 = me_pop[0] / sum1990\n",
    "percent_ma1 = ma_pop[0] / sum1990\n",
    "percent_nh1 = nh_pop[0] / sum1990\n",
    "percent_ri1 = ri_pop[0] / sum1990\n",
    "percent_vt1 = vt_pop[0] / sum1990\n",
    "\n",
    "sum2000 = ct_pop[1] + me_pop[1] + ma_pop[1] + nh_pop[1] + ri_pop[1] + vt_pop[1]\n",
    "avg2000 = sum2000/6\n",
    "percent_ct2 = ct_pop[1] / sum2000\n",
    "percent_me2 = me_pop[1] / sum2000\n",
    "percent_ma2 = ma_pop[1] / sum2000\n",
    "percent_nh2 = nh_pop[1] / sum2000\n",
    "percent_ri2 = ri_pop[1] / sum2000\n",
    "percent_vt2 = vt_pop[1] / sum2000\n",
    "\n",
    "sum2010 = ct_pop[2] + me_pop[2] + ma_pop[2] + nh_pop[2] + ri_pop[2] + vt_pop[2]\n",
    "avg2010 = sum2010/6\n",
    "percent_ct3 = ct_pop[2] / sum2010\n",
    "percent_me3 = me_pop[2] / sum2010\n",
    "percent_ma3 = ma_pop[2] / sum2010\n",
    "percent_nh3 = nh_pop[2] / sum2010\n",
    "percent_ri3 = ri_pop[2] / sum2010\n",
    "percent_vt3 = vt_pop[2] / sum2010\n",
    "\n",
    "sum2020 = ct_pop[3] + me_pop[3] + ma_pop[3] + nh_pop[3] + ri_pop[3] + vt_pop[3]\n",
    "avg2020 = sum2020/6\n",
    "percent_ct4 = ct_pop[3] / sum2020\n",
    "percent_me4 = me_pop[3] / sum2020\n",
    "percent_ma4 = ma_pop[3] / sum2020\n",
    "percent_nh4 = nh_pop[3] / sum2020\n",
    "percent_ri4 = ri_pop[3] / sum2020\n",
    "percent_vt4 = vt_pop[3] / sum2020\n",
    "\n",
    "\n",
    "x1=[percent_ct1,percent_me1,percent_ma1,percent_nh1,percent_ri1,percent_vt1]\n",
    "x2=[percent_ct2,percent_me2,percent_ma2,percent_nh2,percent_ri2,percent_vt2]\n",
    "x3=[percent_ct3,percent_me3,percent_ma3,percent_nh3,percent_ri3,percent_vt3]\n",
    "x4=[percent_ct4,percent_me4,percent_ma4,percent_nh4,percent_ri4,percent_vt4]\n",
    "\n",
    "listy=[\"CT\",\"ME\",\"MA\",\"NH\",\"RI\",\"VT\"]\n",
    "\n",
    "plt.stackplot([\"1990\",\"2000\",\"2010\",\"2020\"], x1[0],x1[1],x1[2],x1[3],x1[4],x1[5],labels=\"\")\n",
    "plt.stackplot([\"1990\",\"2000\",\"2010\",\"2020\"], x2[0],x2[1],x2[2],x2[3],x2[4],x2[5],labels=\"\")\n",
    "plt.stackplot([\"1990\",\"2000\",\"2010\",\"2020\"], x3[0],x3[1],x3[2],x3[3],x3[4],x3[5],labels=\"\")\n",
    "plt.stackplot([\"1990\",\"2000\",\"2010\",\"2020\"], x4[0],x4[1],x4[2],x4[3],x4[4],x4[5],labels=listy)\n",
    "plt.legend(loc='center left', bbox_to_anchor=(1, 0.5))\n",
    "plt.margins(0,0)\n",
    "plt.title(\"States' Fraction of Entire New England Population\")\n",
    "plt.xlabel('Year')\n",
    "plt.ylabel('Fraction')\n",
    "plt.show()"
   ]
  },
  {
   "cell_type": "code",
   "execution_count": null,
   "id": "4a4f5f93",
   "metadata": {},
   "outputs": [],
   "source": []
  },
  {
   "cell_type": "code",
   "execution_count": 103,
   "id": "ad882325",
   "metadata": {
    "scrolled": false
   },
   "outputs": [],
   "source": [
    "networks = pd.read_csv(\"statenetworks.csv\", index_col=\"dyadid\")\n",
    "correlations1 = networks.IdeologyDif.loc[\"CT-ME\"]\n",
    "correlations2 = networks.IdeologyDif.loc[\"CT-MA\"]\n",
    "correlations3 = networks.IdeologyDif.loc[\"CT-NH\"]\n",
    "correlations4 = networks.IdeologyDif.loc[\"CT-RI\"]\n",
    "correlations5 = networks.IdeologyDif.loc[\"CT-VT\"]\n",
    "\n",
    "correlations6 = networks.IdeologyDif.loc[\"ME-CT\"]\n",
    "correlations7 = networks.IdeologyDif.loc[\"ME-MA\"]\n",
    "correlations8 = networks.IdeologyDif.loc[\"ME-NH\"]\n",
    "correlations9 = networks.IdeologyDif.loc[\"ME-RI\"]\n",
    "correlations10 = networks.IdeologyDif.loc[\"ME-VT\"]\n",
    "\n",
    "correlations11 = networks.IdeologyDif.loc[\"MA-CT\"]\n",
    "correlations12 = networks.IdeologyDif.loc[\"MA-ME\"]\n",
    "correlations13 = networks.IdeologyDif.loc[\"MA-NH\"]\n",
    "correlations14 = networks.IdeologyDif.loc[\"MA-RI\"]\n",
    "correlations15 = networks.IdeologyDif.loc[\"MA-VT\"]\n",
    "\n",
    "correlations16 = networks.IdeologyDif.loc[\"NH-CT\"]\n",
    "correlations17 = networks.IdeologyDif.loc[\"NH-ME\"]\n",
    "correlations18 = networks.IdeologyDif.loc[\"NH-MA\"]\n",
    "correlations19 = networks.IdeologyDif.loc[\"NH-RI\"]\n",
    "correlations20 = networks.IdeologyDif.loc[\"NH-VT\"]\n",
    "\n",
    "correlations21 = networks.IdeologyDif.loc[\"RI-CT\"]\n",
    "correlations22 = networks.IdeologyDif.loc[\"RI-ME\"]\n",
    "correlations23 = networks.IdeologyDif.loc[\"RI-MA\"]\n",
    "correlations24 = networks.IdeologyDif.loc[\"RI-NH\"]\n",
    "correlations25 = networks.IdeologyDif.loc[\"RI-VT\"]\n",
    "\n",
    "correlations26 = networks.IdeologyDif.loc[\"VT-CT\"]\n",
    "correlations27 = networks.IdeologyDif.loc[\"VT-ME\"]\n",
    "correlations28 = networks.IdeologyDif.loc[\"VT-MA\"]\n",
    "correlations29 = networks.IdeologyDif.loc[\"VT-NH\"]\n",
    "correlations30 = networks.IdeologyDif.loc[\"VT-RI\"]\n",
    "                   \n",
    "    \n",
    "    \n",
    "level1 = [1, correlations1, correlations2, correlations3, correlations4, correlations5]\n",
    "level2 = [correlations6, 1, correlations7, correlations8, correlations9, correlations10]\n",
    "level3 = [correlations11, correlations12, 1, correlations13, correlations14, correlations15]\n",
    "level4 = [correlations16, correlations17, correlations18, 1, correlations19, correlations20]\n",
    "level5 = [correlations21, correlations22, correlations23, correlations24, 1, correlations25]\n",
    "level6 = [correlations26, correlations27, correlations28, correlations29, correlations30, 1]\n",
    "\n",
    "\n",
    "\n",
    "# Create the pandas DataFrame\n",
    "df_heat = pd.DataFrame([level1,level2,level3,level4,level5,level6], columns = ['CT', 'ME','MA','NH','RI', 'VT'],index = ['CT', 'ME','MA','NH','RI', 'VT'])\n"
   ]
  },
  {
   "cell_type": "code",
   "execution_count": 104,
   "id": "848450b0",
   "metadata": {
    "scrolled": true
   },
   "outputs": [
    {
     "data": {
      "image/png": "[encoded data removed]",
      "text/plain": [
       "<Figure size 432x288 with 2 Axes>"
      ]
     },
     "metadata": {
      "needs_background": "light"
     },
     "output_type": "display_data"
    }
   ],
   "source": [
    "rounded=df_heat.round(decimals=2)\n",
    "a=sns.heatmap(df_heat,annot=True);\n",
    "a.set_title(\"Political Ideology Relative Between State Pairs\", fontdict={'fontsize':12}, pad=12);\n",
    "plt.yticks(rotation=0) \n",
    "plt.savefig('heatmap.png', dpi=300, bbox_inches='tight')"
   ]
  },
  {
   "cell_type": "code",
   "execution_count": 105,
   "id": "b6a7e796",
   "metadata": {},
   "outputs": [
    {
     "data": {
      "text/html": [
       "<div>\n",
       "<style scoped>\n",
       "    .dataframe tbody tr th:only-of-type {\n",
       "        vertical-align: middle;\n",
       "    }\n",
       "\n",
       "    .dataframe tbody tr th {\n",
       "        vertical-align: top;\n",
       "    }\n",
       "\n",
       "    .dataframe thead th {\n",
       "        text-align: right;\n",
       "    }\n",
       "</style>\n",
       "<table border=\"1\" class=\"dataframe\">\n",
       "  <thead>\n",
       "    <tr style=\"text-align: right;\">\n",
       "      <th></th>\n",
       "      <th>CT</th>\n",
       "      <th>ME</th>\n",
       "      <th>MA</th>\n",
       "      <th>NH</th>\n",
       "      <th>RI</th>\n",
       "      <th>VT</th>\n",
       "    </tr>\n",
       "  </thead>\n",
       "  <tbody>\n",
       "    <tr>\n",
       "      <th>CT</th>\n",
       "      <td>1.00</td>\n",
       "      <td>-0.06</td>\n",
       "      <td>-0.11</td>\n",
       "      <td>-0.09</td>\n",
       "      <td>-0.24</td>\n",
       "      <td>0.13</td>\n",
       "    </tr>\n",
       "    <tr>\n",
       "      <th>ME</th>\n",
       "      <td>0.06</td>\n",
       "      <td>1.00</td>\n",
       "      <td>-0.05</td>\n",
       "      <td>-0.03</td>\n",
       "      <td>-0.17</td>\n",
       "      <td>0.19</td>\n",
       "    </tr>\n",
       "    <tr>\n",
       "      <th>MA</th>\n",
       "      <td>0.11</td>\n",
       "      <td>0.05</td>\n",
       "      <td>1.00</td>\n",
       "      <td>0.02</td>\n",
       "      <td>-0.12</td>\n",
       "      <td>0.24</td>\n",
       "    </tr>\n",
       "    <tr>\n",
       "      <th>NH</th>\n",
       "      <td>0.09</td>\n",
       "      <td>0.03</td>\n",
       "      <td>-0.02</td>\n",
       "      <td>1.00</td>\n",
       "      <td>-0.14</td>\n",
       "      <td>0.22</td>\n",
       "    </tr>\n",
       "    <tr>\n",
       "      <th>RI</th>\n",
       "      <td>0.24</td>\n",
       "      <td>0.17</td>\n",
       "      <td>0.12</td>\n",
       "      <td>0.14</td>\n",
       "      <td>1.00</td>\n",
       "      <td>0.36</td>\n",
       "    </tr>\n",
       "    <tr>\n",
       "      <th>VT</th>\n",
       "      <td>-0.13</td>\n",
       "      <td>-0.19</td>\n",
       "      <td>-0.24</td>\n",
       "      <td>-0.22</td>\n",
       "      <td>-0.36</td>\n",
       "      <td>1.00</td>\n",
       "    </tr>\n",
       "  </tbody>\n",
       "</table>\n",
       "</div>"
      ],
      "text/plain": [
       "      CT    ME    MA    NH    RI    VT\n",
       "CT  1.00 -0.06 -0.11 -0.09 -0.24  0.13\n",
       "ME  0.06  1.00 -0.05 -0.03 -0.17  0.19\n",
       "MA  0.11  0.05  1.00  0.02 -0.12  0.24\n",
       "NH  0.09  0.03 -0.02  1.00 -0.14  0.22\n",
       "RI  0.24  0.17  0.12  0.14  1.00  0.36\n",
       "VT -0.13 -0.19 -0.24 -0.22 -0.36  1.00"
      ]
     },
     "execution_count": 105,
     "metadata": {},
     "output_type": "execute_result"
    }
   ],
   "source": [
    "df_heat\n",
    "rounded=df_heat.round(decimals=2)\n",
    "rounded"
   ]
  },
  {
   "cell_type": "code",
   "execution_count": 106,
   "id": "344be009",
   "metadata": {},
   "outputs": [],
   "source": [
    "CT_ideology = networks.S1Ideology.loc[\"CT-AK\"]\n",
    "ME_ideology = networks.S1Ideology.loc[\"ME-AK\"]\n",
    "MA_ideology = networks.S1Ideology.loc[\"MA-AK\"]\n",
    "NH_ideology = networks.S1Ideology.loc[\"NH-AK\"]\n",
    "RI_ideology = networks.S1Ideology.loc[\"RI-AK\"]\n",
    "VT_ideology = networks.S1Ideology.loc[\"VT-AK\"]\n",
    "NY_ideology = networks.S1Ideology.loc[\"NY-AK\"]"
   ]
  },
  {
   "cell_type": "code",
   "execution_count": 114,
   "id": "c7a2a1e9",
   "metadata": {},
   "outputs": [
    {
     "data": {
      "image/png": "[encoded data removed]",
      "text/plain": [
       "<Figure size 432x288 with 1 Axes>"
      ]
     },
     "metadata": {
      "needs_background": "light"
     },
     "output_type": "display_data"
    }
   ],
   "source": [
    "measure = pd.read_csv(\"Median_Household_Income.csv\", index_col=[\"Area_name\"], usecols=[\"Area_name\",\"Value\"])\n",
    "CT_median = measure.loc[\"Connecticut\"]\n",
    "ME_median = measure.loc[\"Maine\"]\n",
    "MA_median = measure.loc[\"Massachusetts\"]\n",
    "NH_median = measure.loc[\"New Hampshire\"]\n",
    "RI_median = measure.loc[\"Rhode Island\"]\n",
    "VT_median = measure.loc[\"Vermont\"]\n",
    "NY_median = measure.loc[\"New York\"]\n",
    "\n",
    "df_median = pd.DataFrame([level1,level2,level3,level4,level5,level6], columns = ['CT', 'ME','MA','NH','RI', 'VT'],index = ['CT', 'ME','MA','NH','RI', 'VT'])\n",
    "\n",
    "#CT_jobs[0]\n",
    "#abc=CT_jobs[0]\n",
    "\n",
    "x1=[CT_ideology,ME_ideology,MA_ideology,NH_ideology,RI_ideology,VT_ideology,NY_ideology]\n",
    "y1=[CT_median,ME_median,MA_median,NH_median,RI_median,VT_median,NY_median]\n",
    "df11 = pd.DataFrame({'State Politicial Ideology': x1,\n",
    "                    'Median Household Income': y1})\n",
    "plt.scatter(x1, y1, color=['Red','Orange','Yellow','Green','Blue','Indigo','Violet'],s=200)\n",
    "plt.title(\"State Political Ideology Compared vs. Household Income\")\n",
    "plt.xlabel(\"State Political Ideology\")\n",
    "plt.ylabel(\"Median Household Income ($)\")\n",
    "plt.show()"
   ]
  },
  {
   "cell_type": "code",
   "execution_count": null,
   "id": "6545baa9",
   "metadata": {},
   "outputs": [],
   "source": []
  },
  {
   "cell_type": "code",
   "execution_count": null,
   "id": "f54abba9",
   "metadata": {},
   "outputs": [],
   "source": []
  },
  {
   "cell_type": "code",
   "execution_count": null,
   "id": "c399e9d2",
   "metadata": {},
   "outputs": [],
   "source": []
  },
  {
   "cell_type": "code",
   "execution_count": null,
   "id": "e7db5a48",
   "metadata": {},
   "outputs": [],
   "source": []
  }
 ],
 "metadata": {
  "kernelspec": {
   "display_name": "Python 3 (ipykernel)",
   "language": "python",
   "name": "python3"
  },
  "language_info": {
   "codemirror_mode": {
    "name": "ipython",
    "version": 3
   },
   "file_extension": ".py",
   "mimetype": "text/x-python",
   "name": "python",
   "nbconvert_exporter": "python",
   "pygments_lexer": "ipython3",
   "version": "3.9.7"
  }
 },
 "nbformat": 4,
 "nbformat_minor": 5
}
